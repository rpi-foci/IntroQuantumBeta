{
 "cells": [
  {
   "cell_type": "markdown",
   "id": "40a3742e-b850-432b-b353-76762d79578c",
   "metadata": {},
   "source": [
    "# Accessing RPI's Quantum System One\n",
    "\n",
    "This is a brief tutorial on accessing RPI's Quantum System One, and running a quantum program.\n",
    "\n",
    "This requires:\n",
    "\n",
    "* The Python Programming Language (Anaconda recommended)\n",
    "* The Qiskit API\n",
    "* Jupyter Lab (Optional, but nice)\n",
    "* Jupyter Hub (Optional, very convenient)\n",
    "* An IBM Quantum Cloud Account (Has everyone accepted the email invite?)\n",
    "* Qiskit Runtime environment configuration\n",
    "* A quantum program, written in Python and Qiskit\n"
   ]
  },
  {
   "cell_type": "markdown",
   "id": "9da22a8c-6a49-4398-8ce5-9f8f251aeeb2",
   "metadata": {},
   "source": [
    "# Quantum Computing\n",
    "\n",
    "Quantum Computing uses physical, quantum mechanical processes to gain\n",
    "a computing advantage over classical computing.  For some problems, it\n",
    "is believed a reliable quantum computer will out-perform a classical\n",
    "computer.  This includes fundamental quantum\n",
    "calculations in material sciences and quantum chemistry, as well as\n",
    "some mathematical operations, such as factoring numbers composed from\n",
    "very large primes.\n",
    "\n",
    "Two processes fundamental to quantum computing are:\n",
    "\n",
    "Superposition: Qubits (quantum bits) can be placed into a state that is\n",
    "    between $0$ and $1$ called superposition.\n",
    "    \n",
    "Entanglement: Qubits can be mathematically correlated, such that knowledge of one of the qubits reveals\n",
    "knowledge of the other qubits.\n",
    "\n",
    "RPI has an IBM Quantum One computer with and Eagle chip, which has 127 qubits.   The Quantum System One is programmed\n",
    "using quantum gates, via the Qiskit API, using Python.  IBM is working on a C API, and much of Qiskit is written in Rust.\n"
   ]
  },
  {
   "cell_type": "markdown",
   "id": "025db997-29b3-4660-ad49-c6bb5a2ca612",
   "metadata": {},
   "source": [
    "## Python, Conda, and Jupyter Lab\n",
    "\n",
    "Python is a programming language popular in scientific applications.   It is developed and maintained as\n",
    "open source.  Information, documentation, and the current build of Python can be\n",
    "found at: [pythong.org](https://python.org).  You can install python from\n",
    "there, if you wish to experiment on your own.  \n",
    "\n",
    "It is easier, however, to use a distribution of Pythong.  Anaconda, particularly ``miniconda'' is recomended.\n",
    "Instructions for installing miniconda locally \n",
    "are here: [Installing Miniconda](https://www.anaconda.com/docs/getting-started/miniconda/install)\n",
    "\n",
    "Jupyter Lab is a python application that runs Python as a \"literate\" programming environment.  That is, descriptive blocks of text and math can be mixed with code blocks of Python in an interactive development environment.\n",
    "\n",
    "We will not be installing Python today, and will instead be using a pre-installed ``hosted'' Python called Jupyter Hub.  This version has everything you need, including Qiskit, pre-installed.\n"
   ]
  },
  {
   "cell_type": "markdown",
   "id": "3e566cea-417b-4d61-8b24-616d7b1fec83",
   "metadata": {},
   "source": [
    "# Installing Qiskit\n",
    "\n",
    "This step is only if you are installing Python locally on your laptop or other computer.  You will need to create a \"Conda\" environment, and install Qiskit in that environment.   First the environment.  To create a Python environment in Anaconda, and install Qiskit in that environment, run the following code on the command line:\n",
    "\n",
    "~~~\n",
    "conda create --name mane_4690 python=3.12\n",
    "conda activate mane_4690\n",
    "~~~\n",
    "\n",
    "Why create a separate environment?   Qiskit goes through frequent updates.  By creating an environment and installing Qiskit there, you can insolate youself from package upgrades.  If a new version of Qiskit comes out, instead of running an upgrade create a new environment and install it there.  This way you avoid breaking code the night before an assignment is due.  (The same applies to any collection of Python packages.  Using environments, and testing installs in separate environments, can avoid many problems with conflicting packages.)\n",
    "\n",
    "Once your environment is ready,\n",
    "create a text file called ``requirements.txt`` with the following list of Python packages:\n",
    "\n",
    "~~~\n",
    "qiskit[visualization]\n",
    "qiskit-ibm-runtime\n",
    "qiskit-aer\n",
    "qiskit-ibm-transpiler\n",
    "jupyter\n",
    "~~~\n",
    "\n",
    "Then run:\n",
    "\n",
    "~~~\n",
    "pip install -r ./requirements.txt --upgrade\n",
    "~~~\n",
    "\n",
    "This will install Qiskit, the Qiskit and supporting Qiskit libraries, and Jupyter Lab.\n",
    "\n",
    "Here is a [handy Conda cheatsheet](https://docs.conda.io/projects/conda/en/stable/user-guide/cheatsheet.html)\n"
   ]
  },
  {
   "cell_type": "markdown",
   "id": "b4a9aa7e-ec7b-492c-93c9-af61e610f226",
   "metadata": {},
   "source": [
    "## The IBM Quantum Cloud\n",
    "\n",
    "We will get back to Python and Qiskit in a moment, but first you need access to RPI's Quantum System One.\n",
    "\n",
    "To request access go to the following link, and fill out the form\n",
    "\n",
    "[Accessing RPI's Quantum System One](https://webforms.rpi.edu/form/rpi-quantum-hub-access-request)\n",
    "\n",
    "Once your request is processed, you will receive an email inviting you to join RPI's Quantum Cloud account.  Clicking the link in that email provides access.  If you do not already have a quantum cloud account with IBM you will need to create one, using your RPI email address.  Note that at the moment quantum cloud is not integrated into Single Sign On, so do not use your RPI password when creating the account.\n",
    "\n",
    "Once the account invitation has been accepted, and your IBM cloud account create, log on to the Quantum Cloud at:\n",
    "\n",
    "[quantum.cloud.ibm.com](https://quantum.cloud.ibm.com/)\n",
    "\n",
    "This is where you will find your API access key, and the Cloud Resource Numbers that provide you access to quantum computers, including RPI's Quantum System One.\n",
    "\n",
    "On the home page of IBM's quantum cloud, on the left side, it says \"API key\" and \"Create +\".  Click the \"Create +\" to create an API key.  Give the key a name, and click Create.  Copy the API key.  You can also view your API keys.\n",
    "\n",
    "The Instances you have access to are listed on the left under the API key menu. Instances provide access to Quantum Computers.  You can copy the CRNs there.  You can also view instances on the Instance page, accessed from the drop down menu.   Please note, there are two kinds of Instances:\n",
    "\n",
    "* On-Prem for the the on-premise, Quantum System One located in the VCC\n",
    "* Preium for access to other quantum computers in the cloud\n",
    "\n",
    "There are also instances for classes, research projects, and so on.  You will have \"General-dedicated\" access for RPI's Quantum System One at the least.  This is fine for show jobs (under 20 minutes), personal learning, and so on.  Use class instances for classes, specific research instances for work with professors, and so on.  If you are engating in your own research project contact qed-team@rpi.edu or open a Trouble Ticket, and request more access.  Using the proper instance helps us with accounting, and queue management.\n",
    "\n",
    "We will be using the API key and Instances when creating the Qiskit Runtime Environment.\n"
   ]
  },
  {
   "cell_type": "code",
   "execution_count": null,
   "id": "7475594c-73af-48d3-8901-9ca8be24791c",
   "metadata": {},
   "outputs": [],
   "source": []
  }
 ],
 "metadata": {
  "kernelspec": {
   "display_name": "Python 3 (ipykernel)",
   "language": "python",
   "name": "python3"
  },
  "language_info": {
   "codemirror_mode": {
    "name": "ipython",
    "version": 3
   },
   "file_extension": ".py",
   "mimetype": "text/x-python",
   "name": "python",
   "nbconvert_exporter": "python",
   "pygments_lexer": "ipython3",
   "version": "3.12.11"
  }
 },
 "nbformat": 4,
 "nbformat_minor": 5
}
