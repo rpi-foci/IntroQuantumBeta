{
 "cells": [
  {
   "cell_type": "markdown",
   "id": "b4a9aa7e-ec7b-492c-93c9-af61e610f226",
   "metadata": {},
   "source": [
    "## The IBM Quantum Cloud\n",
    "\n",
    "It is assumed you have already requested access to RPI's Quantum Cloud account.  If not, please inform the instructor now.\n",
    "\n",
    "Log on to the Quantum Cloud at:\n",
    "\n",
    "[quantum.cloud.ibm.com](https://quantum.cloud.ibm.com/)\n",
    "\n",
    "There you will create API access key, and find the Cloud Resource Numbers (CRN) that provide access to quantum computers, including RPI's Quantum System One.\n",
    "\n",
    "On the home page of IBM's quantum cloud, on the left side, where it says: \"API key\" and \"Create +\".  Click the \"Create +\" to create an API key.  Give the key a name, click Create, *copy the API key* and paste it in the program below.\n",
    "\n",
    "The CRNs you have access to are listed on the left of the home page. Please note, there are two kinds of Instances:\n",
    "\n",
    "* On-Prem for the the on-premise Quantum System One located in the VCC.  These CRNs end in \"dedicated\".\n",
    "* Preium for access to other quantum computers in the cloud\n",
    "\n",
    "Copy the \"General-dedicated\" CRN and paste it in the program below.\n",
    "\n",
    "The \"General-dedicated\" is fine for small jobs (under 20 minutes), personal learning, and so on.  There may also be instances for classes, research, and so on. If you are engaging in your own research project contact qed-team@rpi.edu or open a Trouble Ticket, and request more access. \n",
    "\n",
    "Using the proper instance helps us with accounting and queue management.\n"
   ]
  },
  {
   "cell_type": "markdown",
   "id": "3a154515-1fc6-487f-92a9-09229bd825c4",
   "metadata": {},
   "source": [
    "## Creating a Runtime\n",
    "\n",
    "After you have pasted your API key and CRN into the following, press shift+return to save the runtime.\n",
    "\n",
    "This saves your API key and CRN into a local file.  *Local to whatever computer you are on when creating the\n",
    "runtime.*  If you are using another Jupyter Hub, your laptop, etc., you will need to re-run the code.  It is a good\n",
    "idea to download this file and save it.\n",
    "\n",
    "*Note:  Do not put your API key or CRN directly in a Qiskit program.  Do not put them in QitHub, and so on.*\n"
   ]
  },
  {
   "cell_type": "code",
   "execution_count": null,
   "id": "303b7410-8306-4e60-91ae-7d0d5e1606d6",
   "metadata": {},
   "outputs": [],
   "source": [
    "from qiskit_ibm_runtime import QiskitRuntimeService\n",
    " \n",
    "# Save an IBM Quantum account and set it as your default account.\n",
    "QiskitRuntimeService.save_account(\n",
    "    channel=\"ibm_cloud\",\n",
    "    instance=\"CRN\",\n",
    "    # Replace everything between \"\" with your API Token\n",
    "    token=\"API key\",\n",
    "    set_as_default=True,\n",
    "    overwrite=True,\n",
    ")\n",
    "\n",
    "#To use the saved runtime, start your programs with:\n",
    "\n",
    "service = QiskitRuntimeService()\n",
    "backend = service.backend(\"ibm_rensselaer\")\n",
    "\n",
    "# Saved Runtimes can also be named\n",
    "\n",
    "QiskitRuntimeService.save_account(\n",
    "     name=\"<class_name>\",\n",
    "     channel=\"ibm_cloud\",\n",
    "     instance=\"<CRN for class_name>\",\n",
    "     # Replace everything between \"\" with your API Token\n",
    "     token=\"<API TOKEN>\",\n",
    "     set_as_default=True,\n",
    "     overwrite=True,\n",
    ")\n",
    "\n",
    "service = QiskitRuntimeService(name=\"<class_name>\")\n",
    "backend = service.backend(\"ibm_rensselaer\")\n",
    "\n",
    "# To see the list of saved accounts:\n",
    "\n",
    "service.saved_accounts()\n"
   ]
  },
  {
   "cell_type": "code",
   "execution_count": null,
   "id": "7475594c-73af-48d3-8901-9ca8be24791c",
   "metadata": {},
   "outputs": [],
   "source": []
  }
 ],
 "metadata": {
  "kernelspec": {
   "display_name": "Python 3 (ipykernel)",
   "language": "python",
   "name": "python3"
  },
  "language_info": {
   "codemirror_mode": {
    "name": "ipython",
    "version": 3
   },
   "file_extension": ".py",
   "mimetype": "text/x-python",
   "name": "python",
   "nbconvert_exporter": "python",
   "pygments_lexer": "ipython3",
   "version": "3.12.11"
  }
 },
 "nbformat": 4,
 "nbformat_minor": 5
}
