{
 "cells": [
  {
   "cell_type": "markdown",
   "id": "2dbf798d-d6ba-4b8b-a164-adf8f7cc83dd",
   "metadata": {},
   "source": [
    "# Quantum Computing\n",
    "\n",
    "Quantum Computing uses physical, quantum mechanical processes to gain\n",
    "a computing advantage over classical computing.  For some problems, it\n",
    "is believed a reliable quantum computer will out-perform a classical\n",
    "computer.  This includes fundamental quantum\n",
    "calculations in material sciences and quantum chemistry, as well as\n",
    "some mathematical operations, such as factoring numbers composed from\n",
    "very large primes.\n",
    "\n",
    "Two processes fundamental to quantum computing are:\n",
    "\n",
    "Superposition: Qubits (quantum bits) can be placed into a state that is\n",
    "    between $0$ and $1$ called superposition.\n",
    "    \n",
    "Entanglement: Qubits can be mathematically correlated, such that knowledge of one of the qubits reveals\n",
    "knowledge of the other qubits.\n",
    "\n",
    "RPI has an IBM Quantum One computer with and Eagle chip, which has 127 qubits.   The Quantum System One is programmed\n",
    "using quantum gates, via the Qiskit API, using Python.  IBM is working on a C API, and much of Qiskit is written in Rust.\n"
   ]
  },
  {
   "cell_type": "markdown",
   "id": "32caa21e-5a11-4342-a213-f9b099dcef9d",
   "metadata": {},
   "source": [
    "# A \"Simple\" Quantum Program\n",
    "\n",
    "This program will create what is called a Bell state from two qubits, and submit it to a quantum computer.\n",
    "\n",
    "A Bell state demonstrates entanglement between two qubits.  A quantum circuit with two qubits is created. One\n",
    "qubit is placed into superposition, and then used as the \"control qubit\" for a second qubit, using a CNOT gate."
   ]
  },
  {
   "cell_type": "code",
   "execution_count": null,
   "id": "e6c7e9b8-f364-4731-b4c7-e66f51b22137",
   "metadata": {},
   "outputs": [],
   "source": [
    "from qiskit_ibm_runtime import QiskitRuntimeService\n",
    "from qiskit import QuantumCircuit\n",
    "from qiskit.quantum_info import SparsePauliOp\n",
    "from qiskit.transpiler.preset_passmanagers import generate_preset_pass_manager\n",
    "from qiskit_ibm_runtime import EstimatorV2 as Estimator\n",
    "from qiskit_ibm_runtime import SamplerV2 as Sampler\n",
    "\n",
    "# You'll need to specify the credentials when initializing QiskitRuntimeService.\n",
    "# The backend is needed for the later transpile step.\n",
    "service = QiskitRuntimeService()\n",
    "backend = service.backend(\"ibm_rensselaer\")\n",
    "\n",
    "# Create a bell state\n",
    "qc = QuantumCircuit(2)\n",
    "qc.h(0)\n",
    "qc.cx(0,1)\n",
    "qc.measure_all()\n",
    "\n",
    "# Draw circuit.\n",
    "qc.draw(\"mpl\")\n"
   ]
  },
  {
   "cell_type": "markdown",
   "id": "9214fd2d-339d-4419-9d6f-2d8ae0d55f4d",
   "metadata": {},
   "source": [
    "# Tanspiling\n",
    "\n",
    "Before a circuit can be run, the abstract circuit must be transformed into an equivelent circuit written in the\n",
    "quantum computers native Instruction Set Architecture (ISA).  This process is called \"transpiling.\""
   ]
  },
  {
   "cell_type": "code",
   "execution_count": null,
   "id": "c1df2ce7-2428-426d-88b7-e0b5af90f3ba",
   "metadata": {},
   "outputs": [],
   "source": [
    "pm = generate_preset_pass_manager(backend=backend, optimization_level=1)\n",
    "isa_circuit = pm.run(qc)\n",
    "\n",
    "# Draw the transpiled circuit\n",
    "isa_circuit.draw(\"mpl\", idle_wires=False)\n"
   ]
  },
  {
   "cell_type": "markdown",
   "id": "5b5f81f7-2d25-44fb-93c7-5f54a13e4a1c",
   "metadata": {},
   "source": [
    "Notice how different gates are being used.  While they are different, and may be more difficult for you to read at this\n",
    "time, both circuits do the same thing.\n",
    "\n",
    "Now send the circuit to a quantum computer.  Note, the computer, and queue priority, are determined by the QiskitRuntimeService\n",
    "you specified in the \"Runtime\" program."
   ]
  },
  {
   "cell_type": "code",
   "execution_count": null,
   "id": "7cb49d1c-78cb-445d-bc2f-96bc235e432c",
   "metadata": {},
   "outputs": [],
   "source": [
    "# Run the transpiled circuit \n",
    "sampler = Sampler(backend)\n",
    "job = sampler.run([isa_circuit])\n",
    "print(f\"job id: {job.job_id()}\")\n",
    "\n",
    "result = job.result()\n",
    "print(result)\n",
    "\n"
   ]
  },
  {
   "cell_type": "markdown",
   "id": "a2338189-12f2-4e02-8ba2-fe396821c931",
   "metadata": {},
   "source": [
    "# Visualize the Output\n",
    "\n",
    "The circuit was run 1024 times, and the results of each run measured.  The \"raw\" output above can be used visualized\n",
    "as a histogram, or used as the input to any classical or quantum program."
   ]
  },
  {
   "cell_type": "code",
   "execution_count": null,
   "id": "015934ce-d951-43b9-9c23-e5cc60e8de09",
   "metadata": {},
   "outputs": [],
   "source": [
    "# Get results from Databin\n",
    "pub_result = result[0]\n",
    "counts = pub_result.data.meas.get_counts()\n",
    "print(f\"Counts for the meas output register: {counts}\")\n",
    "\n",
    "# Plot results\n",
    "from qiskit.visualization import plot_histogram\n",
    "plot_histogram(counts)\n"
   ]
  },
  {
   "cell_type": "markdown",
   "id": "5c56adbd-3a3c-4719-948a-54bd4cd16bf1",
   "metadata": {},
   "source": [
    "# Unentangled Qubits\n",
    "\n",
    "Lets try a program that is almost like the previous program.  The differences are: Both qubits are separately placed in superposition,\n",
    "and they are not entangled."
   ]
  },
  {
   "cell_type": "code",
   "execution_count": null,
   "id": "da271ff6-2bf8-41d7-ab68-59f0b2ff0da5",
   "metadata": {},
   "outputs": [],
   "source": [
    "# Put non-entabled qubits into superposition\n",
    "qc2 = QuantumCircuit(2)\n",
    "qc2.h(0)\n",
    "qc2.h(1)\n",
    "qc2.measure_all()\n",
    "\n",
    "# Draw circuit.\n",
    "qc2.draw(\"mpl\")\n"
   ]
  },
  {
   "cell_type": "markdown",
   "id": "4e7f7d55-ed8d-4cb5-ae75-c0c373e46ee8",
   "metadata": {},
   "source": [
    "Run the program, and plot the results on a histogram."
   ]
  },
  {
   "cell_type": "code",
   "execution_count": null,
   "id": "18b258ab-0f04-467a-8635-c3659d255c21",
   "metadata": {},
   "outputs": [],
   "source": [
    "pm = generate_preset_pass_manager(backend=backend, optimization_level=1)\n",
    "isa_circuit = pm.run(qc2)\n",
    "sampler = Sampler(backend)\n",
    "job = sampler.run([isa_circuit])\n",
    "print(f\"job id: {job.job_id()}\")\n",
    "\n",
    "result = job.result()\n",
    "\n",
    "pub_result = result[0]\n",
    "counts = pub_result.data.meas.get_counts()\n",
    "print(f\"Counts for the meas output register: {counts}\")\n",
    "\n",
    "# Plot results\n",
    "from qiskit.visualization import plot_histogram\n",
    "plot_histogram(counts)\n"
   ]
  },
  {
   "cell_type": "markdown",
   "id": "9de6665c-3f43-4af6-bfaf-914c031db76e",
   "metadata": {},
   "source": [
    "# Exercise 1\n",
    "\n",
    "Compare the results of the two quantum programs.  Why they are different?\n"
   ]
  },
  {
   "cell_type": "code",
   "execution_count": null,
   "id": "77d86f13-b7dc-4143-9321-5b4576dc9a12",
   "metadata": {},
   "outputs": [],
   "source": []
  }
 ],
 "metadata": {
  "kernelspec": {
   "display_name": "Python 3 (ipykernel)",
   "language": "python",
   "name": "python3"
  },
  "language_info": {
   "codemirror_mode": {
    "name": "ipython",
    "version": 3
   },
   "file_extension": ".py",
   "mimetype": "text/x-python",
   "name": "python",
   "nbconvert_exporter": "python",
   "pygments_lexer": "ipython3",
   "version": "3.12.11"
  }
 },
 "nbformat": 4,
 "nbformat_minor": 5
}
